{
  "nbformat": 4,
  "nbformat_minor": 0,
  "metadata": {
    "colab": {
      "name": "StandardScaler.ipynb",
      "provenance": [],
      "authorship_tag": "ABX9TyPto5lo52/5yJdVEpi0Gp/C",
      "include_colab_link": true
    },
    "kernelspec": {
      "name": "python3",
      "display_name": "Python 3"
    }
  },
  "cells": [
    {
      "cell_type": "markdown",
      "metadata": {
        "id": "view-in-github",
        "colab_type": "text"
      },
      "source": [
        "<a href=\"https://colab.research.google.com/github/Jasmine-Syed/Feature-Engineering/blob/main/StandardScaler.ipynb\" target=\"_parent\"><img src=\"https://colab.research.google.com/assets/colab-badge.svg\" alt=\"Open In Colab\"/></a>"
      ]
    },
    {
      "cell_type": "markdown",
      "metadata": {
        "id": "686YSjkc5UWr"
      },
      "source": [
        "## **Standard Scaler:**\r\n",
        "* Standardize features by removing the mean and scaling to unit variance\r\n",
        "* The standard score of a sample x is calculated as:\r\n",
        "\r\n",
        "   z = (x - u) / s\r\n",
        "\r\n",
        "where u is the mean of the training samples or zero if with_mean=False, and s is the standard deviation of the training samples or one if with_std=False.\r\n",
        "* Standardization of a dataset is a common requirement for many machine learning estimators but they might behave badly if the individual features do not more or less look like standard normally distributed data (e.g. Gaussian with 0 mean and unit variance).\r\n",
        "\r\n",
        "\r\n",
        "\r\n"
      ]
    },
    {
      "cell_type": "code",
      "metadata": {
        "colab": {
          "base_uri": "https://localhost:8080/"
        },
        "id": "9kAnbIZc5ni2",
        "outputId": "71144d6f-bf6a-4ed9-f2cf-f68cb690df91"
      },
      "source": [
        "from sklearn.preprocessing import StandardScaler\r\n",
        "data = [[0, 0], [0, 0], [1, 1], [1, 1]]\r\n",
        "scaler = StandardScaler()\r\n",
        "transform = scaler.fit_transform(data)\r\n",
        "transform"
      ],
      "execution_count": 2,
      "outputs": [
        {
          "output_type": "execute_result",
          "data": {
            "text/plain": [
              "array([[-1., -1.],\n",
              "       [-1., -1.],\n",
              "       [ 1.,  1.],\n",
              "       [ 1.,  1.]])"
            ]
          },
          "metadata": {
            "tags": []
          },
          "execution_count": 2
        }
      ]
    },
    {
      "cell_type": "code",
      "metadata": {
        "id": "ifdvEnYn60dC"
      },
      "source": [
        ""
      ],
      "execution_count": null,
      "outputs": []
    }
  ]
}