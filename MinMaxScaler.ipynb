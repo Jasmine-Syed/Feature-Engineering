{
  "nbformat": 4,
  "nbformat_minor": 0,
  "metadata": {
    "colab": {
      "name": "MinMaxScaler.ipynb",
      "provenance": [],
      "authorship_tag": "ABX9TyOLBGquXxK40pcDcdwfhvV5",
      "include_colab_link": true
    },
    "kernelspec": {
      "name": "python3",
      "display_name": "Python 3"
    }
  },
  "cells": [
    {
      "cell_type": "markdown",
      "metadata": {
        "id": "view-in-github",
        "colab_type": "text"
      },
      "source": [
        "<a href=\"https://colab.research.google.com/github/Jasmine-Syed/Feature-Engineering/blob/main/MinMaxScaler.ipynb\" target=\"_parent\"><img src=\"https://colab.research.google.com/assets/colab-badge.svg\" alt=\"Open In Colab\"/></a>"
      ]
    },
    {
      "cell_type": "markdown",
      "metadata": {
        "id": "fLt3VXQK8371"
      },
      "source": [
        "# **Min Max Scaling **\r\n",
        "\r\n",
        "* Transform features by scaling each feature to a given range.\r\n",
        "* It is used mostly in CNN(Deep Learning Techniques).\r\n",
        "* Min Max Scaling scales the values between 0 to 1. \r\n",
        "\r\n",
        "  X_scaled = (X - X.min / (X.max - X.min)\r\n",
        "\r\n",
        "* It is not used when there are many outliers."
      ]
    },
    {
      "cell_type": "code",
      "metadata": {
        "colab": {
          "base_uri": "https://localhost:8080/"
        },
        "id": "kbfE2ikT9Gla",
        "outputId": "5696f991-c82b-4376-c4ca-49eaf7f7ceca"
      },
      "source": [
        "from sklearn.preprocessing import MinMaxScaler\r\n",
        "data = [[-1, 2], [-0.5, 6], [0, 10], [1, 18]]\r\n",
        "scaler = MinMaxScaler()\r\n",
        "transform = scaler.fit_transform(data)\r\n",
        "transform"
      ],
      "execution_count": 2,
      "outputs": [
        {
          "output_type": "execute_result",
          "data": {
            "text/plain": [
              "array([[0.  , 0.  ],\n",
              "       [0.25, 0.25],\n",
              "       [0.5 , 0.5 ],\n",
              "       [1.  , 1.  ]])"
            ]
          },
          "metadata": {
            "tags": []
          },
          "execution_count": 2
        }
      ]
    },
    {
      "cell_type": "code",
      "metadata": {
        "id": "pYw-SKxO9Ngr"
      },
      "source": [
        ""
      ],
      "execution_count": null,
      "outputs": []
    }
  ]
}