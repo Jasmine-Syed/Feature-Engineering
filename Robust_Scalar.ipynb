{
  "nbformat": 4,
  "nbformat_minor": 0,
  "metadata": {
    "colab": {
      "name": "Robust_Scalar.ipynb",
      "provenance": [],
      "authorship_tag": "ABX9TyOxixDeGidBUGZJSXwQee1b",
      "include_colab_link": true
    },
    "kernelspec": {
      "name": "python3",
      "display_name": "Python 3"
    }
  },
  "cells": [
    {
      "cell_type": "markdown",
      "metadata": {
        "id": "view-in-github",
        "colab_type": "text"
      },
      "source": [
        "<a href=\"https://colab.research.google.com/github/Jasmine-Syed/Feature-Engineering/blob/main/Robust_Scalar.ipynb\" target=\"_parent\"><img src=\"https://colab.research.google.com/assets/colab-badge.svg\" alt=\"Open In Colab\"/></a>"
      ]
    },
    {
      "cell_type": "markdown",
      "metadata": {
        "id": "zwQL3zbR0jKt"
      },
      "source": [
        "## **Robust Scaler**\r\n",
        "\r\n",
        "* Scale features using statistics that are robust to outliers.\r\n",
        "* This Scaler removes the median and scales the data according to the quantile range (defaults to IQR: Interquartile Range). \r\n",
        "   \r\n",
        "   X_scaled = (X - X.median) / IQR\r\n",
        "* The IQR is the range between the 1st quartile (25th quantile) and the 3rd quartile (75th quantile).\r\n",
        "   \r\n",
        "   IQR = 75th quantile - 25th quantile\r\n",
        "* Outliers can often influence the sample mean / variance in a negative way. In such cases, the median and the interquartile range often give better results.\r\n",
        "\r\n",
        "\r\n",
        "\r\n",
        "\r\n",
        "\r\n",
        "\r\n",
        "\r\n"
      ]
    },
    {
      "cell_type": "code",
      "metadata": {
        "colab": {
          "base_uri": "https://localhost:8080/"
        },
        "id": "Sja_dpUI0ieU",
        "outputId": "d1c7318a-2a93-4906-8490-be5729750d3d"
      },
      "source": [
        "from sklearn.preprocessing import RobustScaler\r\n",
        "X = [[ 1., -2.,  2.],\r\n",
        "      [ -2.,  1.,  3.],\r\n",
        "      [ 4.,  1., -2.]]\r\n",
        "transformer = RobustScaler().fit_transform(X)\r\n",
        "transformer\r\n",
        "\r\n",
        "\r\n",
        "\r\n"
      ],
      "execution_count": 3,
      "outputs": [
        {
          "output_type": "execute_result",
          "data": {
            "text/plain": [
              "array([[ 0. , -2. ,  0. ],\n",
              "       [-1. ,  0. ,  0.4],\n",
              "       [ 1. ,  0. , -1.6]])"
            ]
          },
          "metadata": {
            "tags": []
          },
          "execution_count": 3
        }
      ]
    },
    {
      "cell_type": "code",
      "metadata": {
        "colab": {
          "base_uri": "https://localhost:8080/"
        },
        "id": "TycmYtZo2b9_",
        "outputId": "9593049b-8c7e-416b-8e35-057c1ae61e72"
      },
      "source": [
        "transformer.min(),transformer.max()"
      ],
      "execution_count": 7,
      "outputs": [
        {
          "output_type": "execute_result",
          "data": {
            "text/plain": [
              "(-2.0, 1.0)"
            ]
          },
          "metadata": {
            "tags": []
          },
          "execution_count": 7
        }
      ]
    },
    {
      "cell_type": "code",
      "metadata": {
        "id": "pzC7rZ1g2dfQ"
      },
      "source": [
        ""
      ],
      "execution_count": null,
      "outputs": []
    }
  ]
}