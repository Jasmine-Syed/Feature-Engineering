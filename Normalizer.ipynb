{
  "nbformat": 4,
  "nbformat_minor": 0,
  "metadata": {
    "colab": {
      "name": "Normalizer.ipynb",
      "provenance": [],
      "collapsed_sections": [],
      "authorship_tag": "ABX9TyNowlLmTzPFb1r+m78REZfM",
      "include_colab_link": true
    },
    "kernelspec": {
      "name": "python3",
      "display_name": "Python 3"
    }
  },
  "cells": [
    {
      "cell_type": "markdown",
      "metadata": {
        "id": "view-in-github",
        "colab_type": "text"
      },
      "source": [
        "<a href=\"https://colab.research.google.com/github/Jasmine-Syed/Feature-Engineering/blob/main/Normalizer.ipynb\" target=\"_parent\"><img src=\"https://colab.research.google.com/assets/colab-badge.svg\" alt=\"Open In Colab\"/></a>"
      ]
    },
    {
      "cell_type": "markdown",
      "metadata": {
        "id": "JupoXy0jBJvT"
      },
      "source": [
        "\r\n",
        "\r\n",
        "# There are so many ways to normalize vectors… \r\n",
        "\r\n",
        "A common preprocessing step in machine learning is to normalize a vector before passing the vector into some machine learning algorithm e.g., before training a support vector machine (SVM).\r\n",
        "\r\n",
        "One way to normalize the vector is to apply some normalization to scale the vector to have a length of 1 i.e., a unit norm. There are different ways to define “length” such as as l1 or l2-normalization. \r\n",
        "\r\n",
        "(note this normalization is also often referred to as, unit norm or a vector of length 1 or a unit vector).\r\n",
        "\r\n",
        "In L2 normalization we normalize each sample (row) so the squared elements sum to 1.\r\n",
        "While in L1 normalization we normalize each sample (row) so the absolute value of each element sums to 1."
      ]
    },
    {
      "cell_type": "code",
      "metadata": {
        "id": "rK0VxWaly_WK"
      },
      "source": [
        "import numpy as np\r\n",
        "import pandas as pd"
      ],
      "execution_count": null,
      "outputs": []
    },
    {
      "cell_type": "code",
      "metadata": {
        "id": "BfOPx3z-cSr_"
      },
      "source": [
        "# 1 sample with 10 dimensions with float values\r\n",
        "x = pd.DataFrame(np.random.random(10)).transpose()\r\n"
      ],
      "execution_count": null,
      "outputs": []
    },
    {
      "cell_type": "code",
      "metadata": {
        "colab": {
          "base_uri": "https://localhost:8080/"
        },
        "id": "anw9Lbja-y29",
        "outputId": "fe82c6ff-4ba8-4085-fd63-9c8f989d3a82"
      },
      "source": [
        "# Before-normalization\r\n",
        "print(x)"
      ],
      "execution_count": null,
      "outputs": [
        {
          "output_type": "stream",
          "text": [
            "         0         1         2         3  ...         6       7         8         9\n",
            "0  0.21081  0.751679  0.312031  0.938148  ...  0.246393  0.2597  0.493028  0.960749\n",
            "\n",
            "[1 rows x 10 columns]\n"
          ],
          "name": "stdout"
        }
      ]
    },
    {
      "cell_type": "code",
      "metadata": {
        "colab": {
          "base_uri": "https://localhost:8080/"
        },
        "id": "XxGf-zBgVNy6",
        "outputId": "bf052e44-0fc9-4d9c-876a-ab8c8326fb6c"
      },
      "source": [
        "#importing Normalizer\r\n",
        "from sklearn.preprocessing import Normalizer\r\n",
        "\r\n",
        "# l1-normalize the samples (row) \r\n",
        "normal = Normalizer(norm=\"l1\")\r\n",
        "y =normal.fit_transform(x)\r\n",
        "\r\n",
        "# After Normalization\r\n",
        "Print(y)\r\n",
        "\r\n",
        "# Taking the absolute value of each element, and then summing across each row, gives the expected value of “1” for each row.\r\n",
        "y.sum()"
      ],
      "execution_count": null,
      "outputs": [
        {
          "output_type": "execute_result",
          "data": {
            "text/plain": [
              "0.9999999999999999"
            ]
          },
          "metadata": {
            "tags": []
          },
          "execution_count": 96
        }
      ]
    },
    {
      "cell_type": "code",
      "metadata": {
        "colab": {
          "base_uri": "https://localhost:8080/"
        },
        "id": "mzyr5q4u9wCz",
        "outputId": "a8603002-6029-4b25-8331-b8327915c206"
      },
      "source": [
        "# l2-normalize the samples (row)\r\n",
        "\r\n",
        "normal = Normalizer(norm=\"l2\")\r\n",
        "y =normal.fit_transform(x)\r\n",
        "\r\n",
        "# After Normalization\r\n",
        "Print(y)\r\n",
        "\r\n",
        "# It normalized each sample(row) in the X dataframe so that the squared elements sum to 1.\r\n",
        "print((y**2).sum())\r\n"
      ],
      "execution_count": null,
      "outputs": [
        {
          "output_type": "execute_result",
          "data": {
            "text/plain": [
              "0.9999999999999998"
            ]
          },
          "metadata": {
            "tags": []
          },
          "execution_count": 103
        }
      ]
    }
  ]
}